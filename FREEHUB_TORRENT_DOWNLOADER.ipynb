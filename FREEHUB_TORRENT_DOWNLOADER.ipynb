{
  "nbformat": 4,
  "nbformat_minor": 0,
  "metadata": {
    "colab": {
      "provenance": [],
      "collapsed_sections": []
    },
    "kernelspec": {
      "name": "python3",
      "display_name": "Python 3"
    },
    "language_info": {
      "name": "python"
    },
    "accelerator": "GPU",
    "gpuClass": "standard",
    "widgets": {
      "application/vnd.jupyter.widget-state+json": {
        "2c0f63fa5d8549479d15f6222b070e9e": {
          "model_module": "@jupyter-widgets/controls",
          "model_name": "FloatSliderModel",
          "model_module_version": "1.5.0",
          "state": {
            "_dom_classes": [],
            "_model_module": "@jupyter-widgets/controls",
            "_model_module_version": "1.5.0",
            "_model_name": "FloatSliderModel",
            "_view_count": null,
            "_view_module": "@jupyter-widgets/controls",
            "_view_module_version": "1.5.0",
            "_view_name": "FloatSliderView",
            "continuous_update": true,
            "description": "Weird The Al Yankovic Story (2022) [720p] [WEBRip] [YTS.MX] 2316.462 kB/s downloading",
            "description_tooltip": null,
            "disabled": true,
            "layout": "IPY_MODEL_7c2d296636ae4cc8ba2b32ab5e0998f9",
            "max": 100,
            "min": 0,
            "orientation": "horizontal",
            "readout": true,
            "readout_format": ".2f",
            "step": 0.01,
            "style": "IPY_MODEL_6a4a76ca74124577812702ebf19221f4",
            "value": 99.97959733009338
          }
        },
        "7c2d296636ae4cc8ba2b32ab5e0998f9": {
          "model_module": "@jupyter-widgets/base",
          "model_name": "LayoutModel",
          "model_module_version": "1.2.0",
          "state": {
            "_model_module": "@jupyter-widgets/base",
            "_model_module_version": "1.2.0",
            "_model_name": "LayoutModel",
            "_view_count": null,
            "_view_module": "@jupyter-widgets/base",
            "_view_module_version": "1.2.0",
            "_view_name": "LayoutView",
            "align_content": null,
            "align_items": null,
            "align_self": null,
            "border": null,
            "bottom": null,
            "display": null,
            "flex": null,
            "flex_flow": null,
            "grid_area": null,
            "grid_auto_columns": null,
            "grid_auto_flow": null,
            "grid_auto_rows": null,
            "grid_column": null,
            "grid_gap": null,
            "grid_row": null,
            "grid_template_areas": null,
            "grid_template_columns": null,
            "grid_template_rows": null,
            "height": null,
            "justify_content": null,
            "justify_items": null,
            "left": null,
            "margin": null,
            "max_height": null,
            "max_width": null,
            "min_height": null,
            "min_width": null,
            "object_fit": null,
            "object_position": null,
            "order": null,
            "overflow": null,
            "overflow_x": null,
            "overflow_y": null,
            "padding": null,
            "right": null,
            "top": null,
            "visibility": null,
            "width": "auto"
          }
        },
        "6a4a76ca74124577812702ebf19221f4": {
          "model_module": "@jupyter-widgets/controls",
          "model_name": "SliderStyleModel",
          "model_module_version": "1.5.0",
          "state": {
            "_model_module": "@jupyter-widgets/controls",
            "_model_module_version": "1.5.0",
            "_model_name": "SliderStyleModel",
            "_view_count": null,
            "_view_module": "@jupyter-widgets/base",
            "_view_module_version": "1.2.0",
            "_view_name": "StyleView",
            "description_width": "initial",
            "handle_color": null
          }
        }
      }
    }
  },
  "cells": [
    {
      "cell_type": "markdown",
      "source": [
        "# **FREE HUB UNLIMITED TORRENT DOWNLOADER**\n"
      ],
      "metadata": {
        "id": "9oesqDFquJpi"
      }
    },
    {
      "cell_type": "markdown",
      "source": [
        "<center>\n",
        "<img src=\"https://cdn.discordapp.com/attachments/1006536173189079070/1038634704825499728/Dark_and_Purple_Modern_Digital_Technology_Linkedln_Banner.jpg\">\n",
        "</center>"
      ],
      "metadata": {
        "id": "FnGInKPckaWi"
      }
    },
    {
      "cell_type": "markdown",
      "source": [
        "# **STEP 1 : MOUNT YOUR GOOGLE DRIVE WHERE YOU WANT TO STORE THE DATA**"
      ],
      "metadata": {
        "id": "IxnJaIhgusB0"
      }
    },
    {
      "cell_type": "code",
      "source": [
        "#@markdown <center><h3><b>Select Mount or Unmount Gdrive to</b></h3></center><br>\n",
        "MODE = \"MOUNT\" #@param [\"MOUNT\", \"UNMOUNT\"]\n",
        "#Mount your Gdrive! \n",
        "from google.colab import drive\n",
        "drive.mount._DEBUG = False\n",
        "if MODE == \"MOUNT\":\n",
        "  drive.mount('/content/drive', force_remount=True)\n",
        "elif MODE == \"UNMOUNT\":\n",
        "  try:\n",
        "    drive.flush_and_unmount()\n",
        "  except ValueError:\n",
        "    pass\n",
        "  get_ipython().system_raw(\"rm -rf /root/.config/Google/DriveFS\")"
      ],
      "metadata": {
        "id": "Qjlml3hovB85",
        "colab": {
          "base_uri": "https://localhost:8080/"
        },
        "outputId": "3a3bf918-99bb-4f8a-a0fb-290d8678d267"
      },
      "execution_count": null,
      "outputs": [
        {
          "output_type": "stream",
          "name": "stdout",
          "text": [
            "Mounted at /content/drive\n"
          ]
        }
      ]
    },
    {
      "cell_type": "markdown",
      "source": [
        "# **STEP 2 : INSTALL THE PYTHON LIBRARIES**\n"
      ],
      "metadata": {
        "id": "Lwa46-szwJqH"
      }
    },
    {
      "cell_type": "code",
      "source": [
        "!python -m pip install --upgrade pip setuptools wheel\n",
        "!python -m pip install lbry-libtorrent\n",
        "!apt install python3-libtorrent\n",
        "\n",
        "import libtorrent as lt\n",
        "\n",
        "ses = lt.session()\n",
        "ses.listen_on(6881, 6891)\n",
        "downloads = []\n",
        "\n",
        "from IPython.display import HTML, clear_output\n",
        "\n",
        "clear_output()\n",
        "\n",
        "print(\"Server Started Successfully\")\n",
        "\n"
      ],
      "metadata": {
        "id": "lnjT8XoSwhTY",
        "colab": {
          "base_uri": "https://localhost:8080/"
        },
        "outputId": "cb840d35-db1e-4dd8-b5f3-5fd162ef7677"
      },
      "execution_count": null,
      "outputs": [
        {
          "output_type": "stream",
          "name": "stdout",
          "text": [
            "Server Started Successfully\n"
          ]
        }
      ]
    },
    {
      "cell_type": "markdown",
      "source": [
        "# **STEP 3 : UPLOAD .TORRENT FILE OR PASTE MAGNET LINK GDrive**"
      ],
      "metadata": {
        "id": "VPffemRMx8k0"
      }
    },
    {
      "cell_type": "code",
      "source": [
        "#@markdown <h5>You can run this cell to add more files as many times as you want</h5>\n",
        "#@markdown <h5>No parallel downloading using .torrent files, use magnet for that</h5><br>\n",
        "\n",
        "\n",
        "from google.colab import files\n",
        "\n",
        "source = files.upload()\n",
        "params = {\n",
        "    \"save_path\": \"/content/drive/My Drive/Torrent\",\n",
        "    \"ti\": lt.torrent_info(list(source.keys())[0]),\n",
        "}\n",
        "downloads.append(ses.add_torrent(params))"
      ],
      "metadata": {
        "id": "FKmG0830yIer"
      },
      "execution_count": null,
      "outputs": []
    },
    {
      "cell_type": "code",
      "source": [
        "#@markdown <h3>Add From Magnet Link</h3>\n",
        "#@markdown <h5>You can run this cell to add more files as many times as you want</h5><br>\n",
        "\n",
        "\n",
        "params = {\"save_path\": \"/content/drive/My Drive/Torrent\"}\n",
        "\n",
        "while True:\n",
        "    magnet_link = input(\"Enter Magnet Link Or Type Exit: \")\n",
        "    if magnet_link.lower() == \"exit\":\n",
        "        break\n",
        "    downloads.append(\n",
        "        lt.add_magnet_uri(ses, magnet_link, params)\n",
        "    )\n"
      ],
      "metadata": {
        "id": "5NmXcc_SyhtH"
      },
      "execution_count": null,
      "outputs": []
    },
    {
      "cell_type": "markdown",
      "source": [
        "# **STEP 3 : UPLOAD .TORRENT FILE OR PASTE MAGNET LINK Shared Drive**"
      ],
      "metadata": {
        "id": "dbcuT_UnypFI"
      }
    },
    {
      "cell_type": "code",
      "source": [
        "#@markdown <h5>You can run this cell to add more files as many times as you want</h5>\n",
        "#@markdown <h5>Doesn't support parallel downloding, use magnet method for that</h5><br>\n",
        "\n",
        "#@markdown <h3>Enter the path:</h3>\n",
        "path = \"/content/drive/SMD Flash Downloader/\" #@param {type:\"string\"}\n",
        "check=[]\n",
        "\n",
        "\n",
        "from google.colab import files\n",
        "\n",
        "source = files.upload()\n",
        "params = {\n",
        "    \"save_path\": path,\n",
        "    \"ti\": lt.torrent_info(list(source.keys())[0]),\n",
        "}\n",
        "downloads.append(ses.add_torrent(params))\n",
        "\n",
        "clear_output()\n",
        "\n",
        "print(\"Started Successfully\")\n"
      ],
      "metadata": {
        "id": "aYzKrOjTyxzH",
        "colab": {
          "base_uri": "https://localhost:8080/",
          "height": 73
        },
        "outputId": "4ea39887-6eef-436a-a927-a13c1cf70e38"
      },
      "execution_count": null,
      "outputs": [
        {
          "output_type": "stream",
          "name": "stdout",
          "text": [
            "Started Successfully\n"
          ]
        }
      ]
    },
    {
      "cell_type": "code",
      "source": [
        "#@markdown <h5>You can run this cell to add more files as many times as you want</h5><br>\n",
        "\n",
        "#@markdown <h3>Enter the path:</h3>\n",
        "path = \"/content/drive/Shared drives/SMD Unlimted/SMD Flash Downloader/Games\" #@param {type:\"string\"}\n",
        "check=[]\n",
        "params = {\"save_path\": path}\n",
        "\n",
        "while True:\n",
        "    magnet_link = input(\"Enter Magnet Link Or Type Exit: \")\n",
        "    if magnet_link.lower() == \"exit\":\n",
        "        break\n",
        "    downloads.append(\n",
        "        lt.add_magnet_uri(ses, magnet_link, params)\n",
        "    )\n",
        "\n",
        "clear_output()\n",
        "\n",
        "print(\"Started Successfully\")   \n"
      ],
      "metadata": {
        "id": "3ukQjjbrzPYA"
      },
      "execution_count": null,
      "outputs": []
    },
    {
      "cell_type": "markdown",
      "source": [
        "# **STEP 4 : START CLOUD UPLOAD**\n",
        "\n"
      ],
      "metadata": {
        "id": "suXxV3OYzh8_"
      }
    },
    {
      "cell_type": "code",
      "source": [
        "import time\n",
        "from IPython.display import display\n",
        "import ipywidgets as widgets\n",
        "\n",
        "state_str = [\n",
        "    \"queued\",\n",
        "    \"checking\",\n",
        "    \"downloading metadata\",\n",
        "    \"downloading\",\n",
        "    \"finished\",\n",
        "    \"seeding\",\n",
        "    \"allocating\",\n",
        "    \"checking fastresume\",\n",
        "]\n",
        "\n",
        "layout = widgets.Layout(width=\"auto\")\n",
        "style = {\"description_width\": \"initial\"}\n",
        "download_bars = [\n",
        "    widgets.FloatSlider(\n",
        "        step=0.01, disabled=True, layout=layout, style=style\n",
        "    )\n",
        "    for _ in downloads\n",
        "]\n",
        "display(*download_bars)\n",
        "\n",
        "while downloads:\n",
        "    next_shift = 0\n",
        "    for index, download in enumerate(downloads[:]):\n",
        "        bar = download_bars[index + next_shift]\n",
        "        if not download.is_seed():\n",
        "            s = download.status()\n",
        "\n",
        "            bar.description = \" \".join(\n",
        "                [\n",
        "                    download.name(),\n",
        "                    str(s.download_rate / 1000),\n",
        "                    \"kB/s\",\n",
        "                    state_str[s.state],\n",
        "                ]\n",
        "            )\n",
        "            bar.value = s.progress * 100\n",
        "        else:\n",
        "            next_shift -= 1\n",
        "            ses.remove_torrent(download)\n",
        "            downloads.remove(download)\n",
        "            bar.close()\n",
        "            print(download.name(), \"complete\")\n",
        "    time.sleep(1)\n"
      ],
      "metadata": {
        "id": "USECwRywzliE",
        "colab": {
          "base_uri": "https://localhost:8080/",
          "height": 34,
          "referenced_widgets": [
            "2c0f63fa5d8549479d15f6222b070e9e",
            "7c2d296636ae4cc8ba2b32ab5e0998f9",
            "6a4a76ca74124577812702ebf19221f4"
          ]
        },
        "outputId": "6ec32b4f-b091-4ef0-aa67-b0ecc958c662"
      },
      "execution_count": null,
      "outputs": [
        {
          "output_type": "display_data",
          "data": {
            "text/plain": [
              "FloatSlider(value=0.0, disabled=True, layout=Layout(width='auto'), step=0.01, style=SliderStyle(description_wi…"
            ],
            "application/vnd.jupyter.widget-view+json": {
              "version_major": 2,
              "version_minor": 0,
              "model_id": "2c0f63fa5d8549479d15f6222b070e9e"
            }
          },
          "metadata": {}
        },
        {
          "output_type": "stream",
          "name": "stdout",
          "text": [
            "Weird The Al Yankovic Story (2022) [720p] [WEBRip] [YTS.MX] complete\n"
          ]
        }
      ]
    },
    {
      "cell_type": "markdown",
      "source": [
        "# **DON'T FORGET TO FOLLOW AND ADD STAR✨**\n",
        "\n"
      ],
      "metadata": {
        "id": "FFbd7ZC76n8S"
      }
    }
  ]
}
